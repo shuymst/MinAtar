{
 "cells": [
  {
   "cell_type": "code",
   "execution_count": 22,
   "metadata": {},
   "outputs": [],
   "source": [
    "import torch\n",
    "import torch.nn as nn\n",
    "import torch.nn.functional as F\n",
    "\n",
    "class QNetwork(nn.Module):\n",
    "    def __init__(self, in_channel_num, action_num):\n",
    "        super(QNetwork, self).__init__()\n",
    "        self.in_channel_num = in_channel_num\n",
    "        self.action_num = action_num\n",
    "        self.conv = nn.Conv2d(in_channel_num, 16, kernel_size=3, stride=1)\n",
    "        def size_linear_unit(size, kernel_size=3, stride=1):\n",
    "            return (size - (kernel_size - 1) - 1) // stride + 1\n",
    "        self.linear_unit_num = size_linear_unit(10) * size_linear_unit(10) * 16\n",
    "        self.fc_hidden = nn.Linear(self.linear_unit_num, 64)\n",
    "        self.fc_out = nn.Linear(64, action_num)\n",
    "    \n",
    "    def forward(self, x):\n",
    "        h = F.relu(self.conv(x))\n",
    "        h = h.view(h.size(0), -1)\n",
    "        h = F.relu(self.fc_hidden(h))\n",
    "        out = self.fc_out(h)\n",
    "        return out"
   ]
  },
  {
   "cell_type": "code",
   "execution_count": 11,
   "metadata": {},
   "outputs": [
    {
     "name": "stdout",
     "output_type": "stream",
     "text": [
      "torch.Size([1, 3, 10, 10])\n"
     ]
    }
   ],
   "source": [
    "tensor = torch.randn(size=(1, 3, 10, 10))\n",
    "print(tensor.shape)"
   ]
  },
  {
   "cell_type": "code",
   "execution_count": 24,
   "metadata": {},
   "outputs": [
    {
     "name": "stdout",
     "output_type": "stream",
     "text": [
      "tensor([[ 0.1139,  0.0245, -0.1340,  0.0724],\n",
      "        [ 0.0237, -0.0410, -0.1489, -0.0190],\n",
      "        [ 0.1044,  0.1421, -0.1353, -0.0636],\n",
      "        [ 0.0721,  0.0780, -0.0770, -0.0313]], grad_fn=<AddmmBackward0>)\n"
     ]
    }
   ],
   "source": [
    "model = QNetwork(3, 4)\n",
    "tensor = torch.randn(size=(4, 3, 10, 10))\n",
    "print(model(tensor))"
   ]
  },
  {
   "cell_type": "code",
   "execution_count": 1,
   "metadata": {},
   "outputs": [],
   "source": [
    "import torch\n",
    "t = torch.tensor([[1]])"
   ]
  },
  {
   "cell_type": "code",
   "execution_count": 2,
   "metadata": {},
   "outputs": [
    {
     "data": {
      "text/plain": [
       "torch.Size([1, 1])"
      ]
     },
     "execution_count": 2,
     "metadata": {},
     "output_type": "execute_result"
    }
   ],
   "source": [
    "t.shape"
   ]
  },
  {
   "cell_type": "code",
   "execution_count": 4,
   "metadata": {},
   "outputs": [
    {
     "data": {
      "text/plain": [
       "torch.Size([])"
      ]
     },
     "execution_count": 4,
     "metadata": {},
     "output_type": "execute_result"
    }
   ],
   "source": [
    "a = torch.tensor(1)\n",
    "a.shape"
   ]
  },
  {
   "cell_type": "code",
   "execution_count": 1,
   "metadata": {},
   "outputs": [],
   "source": [
    "from minatar import Environment\n",
    "\n",
    "env = Environment(\"breakout\")"
   ]
  },
  {
   "cell_type": "code",
   "execution_count": 3,
   "metadata": {},
   "outputs": [
    {
     "data": {
      "text/plain": [
       "(10, 10, 4)"
      ]
     },
     "execution_count": 3,
     "metadata": {},
     "output_type": "execute_result"
    }
   ],
   "source": [
    "env.state().shape"
   ]
  },
  {
   "cell_type": "code",
   "execution_count": 4,
   "metadata": {},
   "outputs": [
    {
     "data": {
      "text/plain": [
       "(4, 10, 10)"
      ]
     },
     "execution_count": 4,
     "metadata": {},
     "output_type": "execute_result"
    }
   ],
   "source": [
    "import numpy as np\n",
    "np.transpose(env.state(), (2, 0, 1)).shape"
   ]
  },
  {
   "cell_type": "code",
   "execution_count": 4,
   "metadata": {},
   "outputs": [],
   "source": [
    "import math\n",
    "import matplotlib.pyplot as plt\n",
    "import numpy as np"
   ]
  },
  {
   "cell_type": "code",
   "execution_count": 11,
   "metadata": {},
   "outputs": [
    {
     "data": {
      "text/plain": [
       "[<matplotlib.lines.Line2D at 0x7f1a8a5994e0>]"
      ]
     },
     "execution_count": 11,
     "metadata": {},
     "output_type": "execute_result"
    },
    {
     "data": {
      "image/png": "[encoded data removed]",
      "text/plain": [
       "<Figure size 640x480 with 1 Axes>"
      ]
     },
     "metadata": {},
     "output_type": "display_data"
    }
   ],
   "source": [
    "EPS_START = 0.9\n",
    "EPS_END = 0.05\n",
    "EPS_DECAY = 1000000\n",
    "\n",
    "steps_done = [i for i in range(10000000)]\n",
    "steps_done = np.array(steps_done)\n",
    "\n",
    "epsilon = EPS_END + (EPS_START - EPS_END) * np.exp(-1. * steps_done / EPS_DECAY)\n",
    "\n",
    "plt.plot(steps_done, epsilon)"
   ]
  },
  {
   "cell_type": "code",
   "execution_count": null,
   "metadata": {},
   "outputs": [],
   "source": []
  }
 ],
 "metadata": {
  "kernelspec": {
   "display_name": "Python 3.10.5 ('venv': venv)",
   "language": "python",
   "name": "python3"
  },
  "language_info": {
   "codemirror_mode": {
    "name": "ipython",
    "version": 3
   },
   "file_extension": ".py",
   "mimetype": "text/x-python",
   "name": "python",
   "nbconvert_exporter": "python",
   "pygments_lexer": "ipython3",
   "version": "3.10.5"
  },
  "orig_nbformat": 4,
  "vscode": {
   "interpreter": {
    "hash": "0f28b78aed9f17edefbf1a5bab52938d0842ec45495fe7ef4c32bde900a36012"
   }
  }
 },
 "nbformat": 4,
 "nbformat_minor": 2
}
