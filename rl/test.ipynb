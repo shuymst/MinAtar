{
 "cells": [
  {
   "cell_type": "code",
   "execution_count": 22,
   "metadata": {},
   "outputs": [],
   "source": [
    "import torch\n",
    "import torch.nn as nn\n",
    "import torch.nn.functional as F\n",
    "\n",
    "class QNetwork(nn.Module):\n",
    "    def __init__(self, in_channel_num, action_num):\n",
    "        super(QNetwork, self).__init__()\n",
    "        self.in_channel_num = in_channel_num\n",
    "        self.action_num = action_num\n",
    "        self.conv = nn.Conv2d(in_channel_num, 16, kernel_size=3, stride=1)\n",
    "        def size_linear_unit(size, kernel_size=3, stride=1):\n",
    "            return (size - (kernel_size - 1) - 1) // stride + 1\n",
    "        self.linear_unit_num = size_linear_unit(10) * size_linear_unit(10) * 16\n",
    "        self.fc_hidden = nn.Linear(self.linear_unit_num, 64)\n",
    "        self.fc_out = nn.Linear(64, action_num)\n",
    "    \n",
    "    def forward(self, x):\n",
    "        h = F.relu(self.conv(x))\n",
    "        h = h.view(h.size(0), -1)\n",
    "        h = F.relu(self.fc_hidden(h))\n",
    "        out = self.fc_out(h)\n",
    "        return out"
   ]
  },
  {
   "cell_type": "code",
   "execution_count": 11,
   "metadata": {},
   "outputs": [
    {
     "name": "stdout",
     "output_type": "stream",
     "text": [
      "torch.Size([1, 3, 10, 10])\n"
     ]
    }
   ],
   "source": [
    "tensor = torch.randn(size=(1, 3, 10, 10))\n",
    "print(tensor.shape)"
   ]
  },
  {
   "cell_type": "code",
   "execution_count": 24,
   "metadata": {},
   "outputs": [
    {
     "name": "stdout",
     "output_type": "stream",
     "text": [
      "tensor([[ 0.1139,  0.0245, -0.1340,  0.0724],\n",
      "        [ 0.0237, -0.0410, -0.1489, -0.0190],\n",
      "        [ 0.1044,  0.1421, -0.1353, -0.0636],\n",
      "        [ 0.0721,  0.0780, -0.0770, -0.0313]], grad_fn=<AddmmBackward0>)\n"
     ]
    }
   ],
   "source": [
    "model = QNetwork(3, 4)\n",
    "tensor = torch.randn(size=(4, 3, 10, 10))\n",
    "print(model(tensor))"
   ]
  },
  {
   "cell_type": "code",
   "execution_count": null,
   "metadata": {},
   "outputs": [],
   "source": []
  }
 ],
 "metadata": {
  "kernelspec": {
   "display_name": "Python 3.10.5 ('venv': venv)",
   "language": "python",
   "name": "python3"
  },
  "language_info": {
   "codemirror_mode": {
    "name": "ipython",
    "version": 3
   },
   "file_extension": ".py",
   "mimetype": "text/x-python",
   "name": "python",
   "nbconvert_exporter": "python",
   "pygments_lexer": "ipython3",
   "version": "3.10.5"
  },
  "orig_nbformat": 4,
  "vscode": {
   "interpreter": {
    "hash": "0f28b78aed9f17edefbf1a5bab52938d0842ec45495fe7ef4c32bde900a36012"
   }
  }
 },
 "nbformat": 4,
 "nbformat_minor": 2
}
